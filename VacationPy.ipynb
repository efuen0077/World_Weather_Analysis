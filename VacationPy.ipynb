{
 "cells": [
  {
   "cell_type": "code",
   "execution_count": 1,
   "metadata": {},
   "outputs": [
    {
     "name": "stdout",
     "output_type": "stream",
     "text": [
      "Requirement already satisfied: gmaps in /Users/evafuentes/opt/anaconda3/lib/python3.7/site-packages (0.9.0)\n",
      "Requirement already satisfied: geojson>=2.0.0 in /Users/evafuentes/opt/anaconda3/lib/python3.7/site-packages (from gmaps) (2.5.0)\n",
      "Requirement already satisfied: six in /Users/evafuentes/opt/anaconda3/lib/python3.7/site-packages (from gmaps) (1.14.0)\n",
      "Requirement already satisfied: traitlets>=4.3.0 in /Users/evafuentes/opt/anaconda3/lib/python3.7/site-packages (from gmaps) (4.3.3)\n",
      "Requirement already satisfied: ipywidgets>=7.0.0 in /Users/evafuentes/opt/anaconda3/lib/python3.7/site-packages (from gmaps) (7.5.1)\n",
      "Requirement already satisfied: ipython>=5.3.0 in /Users/evafuentes/opt/anaconda3/lib/python3.7/site-packages (from gmaps) (7.12.0)\n",
      "Requirement already satisfied: decorator in /Users/evafuentes/opt/anaconda3/lib/python3.7/site-packages (from traitlets>=4.3.0->gmaps) (4.4.1)\n",
      "Requirement already satisfied: ipython-genutils in /Users/evafuentes/opt/anaconda3/lib/python3.7/site-packages (from traitlets>=4.3.0->gmaps) (0.2.0)\n",
      "Requirement already satisfied: ipykernel>=4.5.1 in /Users/evafuentes/opt/anaconda3/lib/python3.7/site-packages (from ipywidgets>=7.0.0->gmaps) (5.1.4)\n",
      "Requirement already satisfied: nbformat>=4.2.0 in /Users/evafuentes/opt/anaconda3/lib/python3.7/site-packages (from ipywidgets>=7.0.0->gmaps) (5.0.4)\n",
      "Requirement already satisfied: widgetsnbextension~=3.5.0 in /Users/evafuentes/opt/anaconda3/lib/python3.7/site-packages (from ipywidgets>=7.0.0->gmaps) (3.5.1)\n",
      "Requirement already satisfied: prompt-toolkit!=3.0.0,!=3.0.1,<3.1.0,>=2.0.0 in /Users/evafuentes/opt/anaconda3/lib/python3.7/site-packages (from ipython>=5.3.0->gmaps) (3.0.3)\n",
      "Requirement already satisfied: pickleshare in /Users/evafuentes/opt/anaconda3/lib/python3.7/site-packages (from ipython>=5.3.0->gmaps) (0.7.5)\n",
      "Requirement already satisfied: setuptools>=18.5 in /Users/evafuentes/opt/anaconda3/lib/python3.7/site-packages (from ipython>=5.3.0->gmaps) (46.0.0.post20200309)\n",
      "Requirement already satisfied: pygments in /Users/evafuentes/opt/anaconda3/lib/python3.7/site-packages (from ipython>=5.3.0->gmaps) (2.5.2)\n",
      "Requirement already satisfied: appnope; sys_platform == \"darwin\" in /Users/evafuentes/opt/anaconda3/lib/python3.7/site-packages (from ipython>=5.3.0->gmaps) (0.1.0)\n",
      "Requirement already satisfied: jedi>=0.10 in /Users/evafuentes/opt/anaconda3/lib/python3.7/site-packages (from ipython>=5.3.0->gmaps) (0.14.1)\n",
      "Requirement already satisfied: backcall in /Users/evafuentes/opt/anaconda3/lib/python3.7/site-packages (from ipython>=5.3.0->gmaps) (0.1.0)\n",
      "Requirement already satisfied: pexpect; sys_platform != \"win32\" in /Users/evafuentes/opt/anaconda3/lib/python3.7/site-packages (from ipython>=5.3.0->gmaps) (4.8.0)\n",
      "Requirement already satisfied: tornado>=4.2 in /Users/evafuentes/opt/anaconda3/lib/python3.7/site-packages (from ipykernel>=4.5.1->ipywidgets>=7.0.0->gmaps) (6.0.3)\n",
      "Requirement already satisfied: jupyter-client in /Users/evafuentes/opt/anaconda3/lib/python3.7/site-packages (from ipykernel>=4.5.1->ipywidgets>=7.0.0->gmaps) (5.3.4)\n",
      "Requirement already satisfied: jsonschema!=2.5.0,>=2.4 in /Users/evafuentes/opt/anaconda3/lib/python3.7/site-packages (from nbformat>=4.2.0->ipywidgets>=7.0.0->gmaps) (3.2.0)\n",
      "Requirement already satisfied: jupyter-core in /Users/evafuentes/opt/anaconda3/lib/python3.7/site-packages (from nbformat>=4.2.0->ipywidgets>=7.0.0->gmaps) (4.6.1)\n",
      "Requirement already satisfied: notebook>=4.4.1 in /Users/evafuentes/opt/anaconda3/lib/python3.7/site-packages (from widgetsnbextension~=3.5.0->ipywidgets>=7.0.0->gmaps) (6.0.3)\n",
      "Requirement already satisfied: wcwidth in /Users/evafuentes/opt/anaconda3/lib/python3.7/site-packages (from prompt-toolkit!=3.0.0,!=3.0.1,<3.1.0,>=2.0.0->ipython>=5.3.0->gmaps) (0.1.8)\n",
      "Requirement already satisfied: parso>=0.5.0 in /Users/evafuentes/opt/anaconda3/lib/python3.7/site-packages (from jedi>=0.10->ipython>=5.3.0->gmaps) (0.5.2)\n",
      "Requirement already satisfied: ptyprocess>=0.5 in /Users/evafuentes/opt/anaconda3/lib/python3.7/site-packages (from pexpect; sys_platform != \"win32\"->ipython>=5.3.0->gmaps) (0.6.0)\n",
      "Requirement already satisfied: python-dateutil>=2.1 in /Users/evafuentes/opt/anaconda3/lib/python3.7/site-packages (from jupyter-client->ipykernel>=4.5.1->ipywidgets>=7.0.0->gmaps) (2.8.1)\n",
      "Requirement already satisfied: pyzmq>=13 in /Users/evafuentes/opt/anaconda3/lib/python3.7/site-packages (from jupyter-client->ipykernel>=4.5.1->ipywidgets>=7.0.0->gmaps) (18.1.1)\n",
      "Requirement already satisfied: importlib-metadata; python_version < \"3.8\" in /Users/evafuentes/opt/anaconda3/lib/python3.7/site-packages (from jsonschema!=2.5.0,>=2.4->nbformat>=4.2.0->ipywidgets>=7.0.0->gmaps) (1.5.0)\n",
      "Requirement already satisfied: attrs>=17.4.0 in /Users/evafuentes/opt/anaconda3/lib/python3.7/site-packages (from jsonschema!=2.5.0,>=2.4->nbformat>=4.2.0->ipywidgets>=7.0.0->gmaps) (19.3.0)\n",
      "Requirement already satisfied: pyrsistent>=0.14.0 in /Users/evafuentes/opt/anaconda3/lib/python3.7/site-packages (from jsonschema!=2.5.0,>=2.4->nbformat>=4.2.0->ipywidgets>=7.0.0->gmaps) (0.15.7)\n",
      "Requirement already satisfied: terminado>=0.8.1 in /Users/evafuentes/opt/anaconda3/lib/python3.7/site-packages (from notebook>=4.4.1->widgetsnbextension~=3.5.0->ipywidgets>=7.0.0->gmaps) (0.8.3)\n",
      "Requirement already satisfied: prometheus-client in /Users/evafuentes/opt/anaconda3/lib/python3.7/site-packages (from notebook>=4.4.1->widgetsnbextension~=3.5.0->ipywidgets>=7.0.0->gmaps) (0.7.1)\n",
      "Requirement already satisfied: nbconvert in /Users/evafuentes/opt/anaconda3/lib/python3.7/site-packages (from notebook>=4.4.1->widgetsnbextension~=3.5.0->ipywidgets>=7.0.0->gmaps) (5.6.1)\n",
      "Requirement already satisfied: Send2Trash in /Users/evafuentes/opt/anaconda3/lib/python3.7/site-packages (from notebook>=4.4.1->widgetsnbextension~=3.5.0->ipywidgets>=7.0.0->gmaps) (1.5.0)\n",
      "Requirement already satisfied: jinja2 in /Users/evafuentes/opt/anaconda3/lib/python3.7/site-packages (from notebook>=4.4.1->widgetsnbextension~=3.5.0->ipywidgets>=7.0.0->gmaps) (2.11.1)\n",
      "Requirement already satisfied: zipp>=0.5 in /Users/evafuentes/opt/anaconda3/lib/python3.7/site-packages (from importlib-metadata; python_version < \"3.8\"->jsonschema!=2.5.0,>=2.4->nbformat>=4.2.0->ipywidgets>=7.0.0->gmaps) (2.2.0)\n",
      "Requirement already satisfied: mistune<2,>=0.8.1 in /Users/evafuentes/opt/anaconda3/lib/python3.7/site-packages (from nbconvert->notebook>=4.4.1->widgetsnbextension~=3.5.0->ipywidgets>=7.0.0->gmaps) (0.8.4)\n",
      "Requirement already satisfied: bleach in /Users/evafuentes/opt/anaconda3/lib/python3.7/site-packages (from nbconvert->notebook>=4.4.1->widgetsnbextension~=3.5.0->ipywidgets>=7.0.0->gmaps) (3.1.0)\n",
      "Requirement already satisfied: pandocfilters>=1.4.1 in /Users/evafuentes/opt/anaconda3/lib/python3.7/site-packages (from nbconvert->notebook>=4.4.1->widgetsnbextension~=3.5.0->ipywidgets>=7.0.0->gmaps) (1.4.2)\n",
      "Requirement already satisfied: testpath in /Users/evafuentes/opt/anaconda3/lib/python3.7/site-packages (from nbconvert->notebook>=4.4.1->widgetsnbextension~=3.5.0->ipywidgets>=7.0.0->gmaps) (0.4.4)\n",
      "Requirement already satisfied: entrypoints>=0.2.2 in /Users/evafuentes/opt/anaconda3/lib/python3.7/site-packages (from nbconvert->notebook>=4.4.1->widgetsnbextension~=3.5.0->ipywidgets>=7.0.0->gmaps) (0.3)\n",
      "Requirement already satisfied: defusedxml in /Users/evafuentes/opt/anaconda3/lib/python3.7/site-packages (from nbconvert->notebook>=4.4.1->widgetsnbextension~=3.5.0->ipywidgets>=7.0.0->gmaps) (0.6.0)\n",
      "Requirement already satisfied: MarkupSafe>=0.23 in /Users/evafuentes/opt/anaconda3/lib/python3.7/site-packages (from jinja2->notebook>=4.4.1->widgetsnbextension~=3.5.0->ipywidgets>=7.0.0->gmaps) (1.1.1)\n",
      "Requirement already satisfied: webencodings in /Users/evafuentes/opt/anaconda3/lib/python3.7/site-packages (from bleach->nbconvert->notebook>=4.4.1->widgetsnbextension~=3.5.0->ipywidgets>=7.0.0->gmaps) (0.5.1)\n",
      "Note: you may need to restart the kernel to use updated packages.\n"
     ]
    }
   ],
   "source": [
    "pip install gmaps"
   ]
  },
  {
   "cell_type": "code",
   "execution_count": 2,
   "metadata": {},
   "outputs": [],
   "source": [
    "# Import the dependencies.\n",
    "import pandas as pd\n",
    "import gmaps\n",
    "import requests\n",
    "# Import the API key.\n",
    "from config import g_key"
   ]
  },
  {
   "cell_type": "code",
   "execution_count": 3,
   "metadata": {},
   "outputs": [
    {
     "data": {
      "text/html": [
       "<div>\n",
       "<style scoped>\n",
       "    .dataframe tbody tr th:only-of-type {\n",
       "        vertical-align: middle;\n",
       "    }\n",
       "\n",
       "    .dataframe tbody tr th {\n",
       "        vertical-align: top;\n",
       "    }\n",
       "\n",
       "    .dataframe thead th {\n",
       "        text-align: right;\n",
       "    }\n",
       "</style>\n",
       "<table border=\"1\" class=\"dataframe\">\n",
       "  <thead>\n",
       "    <tr style=\"text-align: right;\">\n",
       "      <th></th>\n",
       "      <th>City_ID</th>\n",
       "      <th>City</th>\n",
       "      <th>Country</th>\n",
       "      <th>Date</th>\n",
       "      <th>Lat</th>\n",
       "      <th>Lng</th>\n",
       "      <th>Max Temp</th>\n",
       "      <th>Humidity</th>\n",
       "      <th>Cloudiness</th>\n",
       "      <th>Wind Speed</th>\n",
       "    </tr>\n",
       "  </thead>\n",
       "  <tbody>\n",
       "    <tr>\n",
       "      <th>0</th>\n",
       "      <td>0</td>\n",
       "      <td>Contamana</td>\n",
       "      <td>PE</td>\n",
       "      <td>2020-04-16 22:41:40</td>\n",
       "      <td>-7.33</td>\n",
       "      <td>-75.02</td>\n",
       "      <td>68.11</td>\n",
       "      <td>87</td>\n",
       "      <td>100</td>\n",
       "      <td>2.98</td>\n",
       "    </tr>\n",
       "    <tr>\n",
       "      <th>1</th>\n",
       "      <td>1</td>\n",
       "      <td>Hermanus</td>\n",
       "      <td>ZA</td>\n",
       "      <td>2020-04-16 22:39:32</td>\n",
       "      <td>-34.42</td>\n",
       "      <td>19.23</td>\n",
       "      <td>60.01</td>\n",
       "      <td>94</td>\n",
       "      <td>92</td>\n",
       "      <td>2.26</td>\n",
       "    </tr>\n",
       "    <tr>\n",
       "      <th>2</th>\n",
       "      <td>2</td>\n",
       "      <td>Ilanskiy</td>\n",
       "      <td>RU</td>\n",
       "      <td>2020-04-16 22:41:40</td>\n",
       "      <td>56.24</td>\n",
       "      <td>96.06</td>\n",
       "      <td>37.80</td>\n",
       "      <td>84</td>\n",
       "      <td>98</td>\n",
       "      <td>4.63</td>\n",
       "    </tr>\n",
       "    <tr>\n",
       "      <th>3</th>\n",
       "      <td>3</td>\n",
       "      <td>Soderhamn</td>\n",
       "      <td>SE</td>\n",
       "      <td>2020-04-16 22:41:41</td>\n",
       "      <td>61.30</td>\n",
       "      <td>17.06</td>\n",
       "      <td>37.99</td>\n",
       "      <td>52</td>\n",
       "      <td>8</td>\n",
       "      <td>5.01</td>\n",
       "    </tr>\n",
       "    <tr>\n",
       "      <th>4</th>\n",
       "      <td>4</td>\n",
       "      <td>Mataura</td>\n",
       "      <td>NZ</td>\n",
       "      <td>2020-04-16 22:39:24</td>\n",
       "      <td>-46.19</td>\n",
       "      <td>168.86</td>\n",
       "      <td>46.00</td>\n",
       "      <td>95</td>\n",
       "      <td>100</td>\n",
       "      <td>4.00</td>\n",
       "    </tr>\n",
       "  </tbody>\n",
       "</table>\n",
       "</div>"
      ],
      "text/plain": [
       "   City_ID       City Country                 Date    Lat     Lng  Max Temp  \\\n",
       "0        0  Contamana      PE  2020-04-16 22:41:40  -7.33  -75.02     68.11   \n",
       "1        1   Hermanus      ZA  2020-04-16 22:39:32 -34.42   19.23     60.01   \n",
       "2        2   Ilanskiy      RU  2020-04-16 22:41:40  56.24   96.06     37.80   \n",
       "3        3  Soderhamn      SE  2020-04-16 22:41:41  61.30   17.06     37.99   \n",
       "4        4    Mataura      NZ  2020-04-16 22:39:24 -46.19  168.86     46.00   \n",
       "\n",
       "   Humidity  Cloudiness  Wind Speed  \n",
       "0        87         100        2.98  \n",
       "1        94          92        2.26  \n",
       "2        84          98        4.63  \n",
       "3        52           8        5.01  \n",
       "4        95         100        4.00  "
      ]
     },
     "execution_count": 3,
     "metadata": {},
     "output_type": "execute_result"
    }
   ],
   "source": [
    "# Store the CSV you saved created in part one into a DataFrame.\n",
    "city_data_df = pd.read_csv(\"weather_data/cities.csv\")\n",
    "city_data_df.head()"
   ]
  },
  {
   "cell_type": "code",
   "execution_count": 4,
   "metadata": {},
   "outputs": [],
   "source": [
    "# Configure gmaps to use your Google API key.\n",
    "gmaps.configure(api_key=g_key)"
   ]
  },
  {
   "cell_type": "code",
   "execution_count": 5,
   "metadata": {},
   "outputs": [],
   "source": [
    "# 1. Assign the locations to an array of latitude and longitude pairs.\n",
    "#locations = [latitude, longitude]\n",
    "# 2. Assign the weights variable to some values.\n",
    "#temperatures = # an array of equal length of the locations array.\n",
    "# 3. Assign the figure variable to the gmaps.figure() attribute.\n",
    "#fig = gmaps.figure()\n",
    "# 4. Assign the heatmap_layer variable to the heatmap_layer attribute and add in the locations.\n",
    "#heatmap_layer = gmaps.heatmap_layer(locations, weights=temperatures)\n",
    "\n",
    "# 5. Add the heatmap layer.\n",
    "#fig.add_layer(heatmap_layer)\n",
    "# 6. Call the figure to plot the data.\n",
    "#fig"
   ]
  },
  {
   "cell_type": "code",
   "execution_count": 6,
   "metadata": {},
   "outputs": [],
   "source": [
    "# Get the maximum temperature.\n",
    "max_temp = city_data_df[\"Max Temp\"]\n",
    "temps = []\n",
    "for temp in max_temp:\n",
    "    temps.append(max(temp, 0))"
   ]
  },
  {
   "cell_type": "code",
   "execution_count": 7,
   "metadata": {},
   "outputs": [
    {
     "data": {
      "application/vnd.jupyter.widget-view+json": {
       "model_id": "d6bc34e525ba420884b796093b2fe6e5",
       "version_major": 2,
       "version_minor": 0
      },
      "text/plain": [
       "Figure(layout=FigureLayout(height='420px'))"
      ]
     },
     "metadata": {},
     "output_type": "display_data"
    }
   ],
   "source": [
    "# Heatmap of temperature\n",
    "# Get the latitude and longitude.\n",
    "locations = city_data_df[[\"Lat\", \"Lng\"]]\n",
    "# Get the maximum temperature.\n",
    "max_temp = city_data_df[\"Max Temp\"]\n",
    "# Assign the figure variable.\n",
    "fig = gmaps.figure()\n",
    "# Assign the heatmap variable.\n",
    "heat_layer = gmaps.heatmap_layer(locations, weights=temps)\n",
    "# Add the heatmap layer.\n",
    "fig.add_layer(heat_layer)\n",
    "# Call the figure to plot the data.\n",
    "fig"
   ]
  },
  {
   "cell_type": "code",
   "execution_count": 8,
   "metadata": {},
   "outputs": [],
   "source": [
    "#Instead of using the for loop, we can perform a\n",
    "#list comprehension within the heatmap_layer() function."
   ]
  },
  {
   "cell_type": "code",
   "execution_count": 9,
   "metadata": {},
   "outputs": [
    {
     "data": {
      "application/vnd.jupyter.widget-view+json": {
       "model_id": "150c9706c76246acb7a7bf22dda261e8",
       "version_major": 2,
       "version_minor": 0
      },
      "text/plain": [
       "Figure(layout=FigureLayout(height='420px'))"
      ]
     },
     "metadata": {},
     "output_type": "display_data"
    }
   ],
   "source": [
    "# Heatmap of temperature\n",
    "# Get the latitude and longitude.\n",
    "locations = city_data_df[[\"Lat\", \"Lng\"]]\n",
    "# Get the maximum temperature.\n",
    "max_temp = city_data_df[\"Max Temp\"]\n",
    "# Assign the figure variable.\n",
    "fig = gmaps.figure(center=(30.0, 31.0), zoom_level=1.5)\n",
    "# Assign the heatmap variable.\n",
    "#heat_layer = gmaps.heatmap_layer(locations, weights=[max(temp, 0) for temp in max_temp])\n",
    "gmaps.heatmap_layer(locations, weights=temps, dissipating=False, max_intensity=300, point_radius=4)\n",
    "fig.add_layer(heat_layer)\n",
    "# Call the figure to plot the data.\n",
    "fig"
   ]
  },
  {
   "cell_type": "code",
   "execution_count": 10,
   "metadata": {},
   "outputs": [
    {
     "data": {
      "application/vnd.jupyter.widget-view+json": {
       "model_id": "d1c7eb60a61b4f46953e3f5e7013cbcb",
       "version_major": 2,
       "version_minor": 0
      },
      "text/plain": [
       "Figure(layout=FigureLayout(height='420px'))"
      ]
     },
     "metadata": {},
     "output_type": "display_data"
    }
   ],
   "source": [
    "# Heatmap of percent humidity\n",
    "locations = city_data_df[[\"Lat\", \"Lng\"]]\n",
    "humidity = city_data_df[\"Humidity\"]\n",
    "fig = gmaps.figure(center=(30.0, 31.0), zoom_level=1.5)\n",
    "heat_layer = gmaps.heatmap_layer(locations, weights=humidity, dissipating=False, max_intensity=300, point_radius=4)\n",
    "\n",
    "fig.add_layer(heat_layer)\n",
    "# Call the figure to plot the data.\n",
    "fig\n"
   ]
  },
  {
   "cell_type": "code",
   "execution_count": 11,
   "metadata": {},
   "outputs": [
    {
     "data": {
      "application/vnd.jupyter.widget-view+json": {
       "model_id": "7a111227727b431db37350e0381b970b",
       "version_major": 2,
       "version_minor": 0
      },
      "text/plain": [
       "Figure(layout=FigureLayout(height='420px'))"
      ]
     },
     "metadata": {},
     "output_type": "display_data"
    }
   ],
   "source": [
    "# Heatmap of percent humidity\n",
    "locations = city_data_df[[\"Lat\", \"Lng\"]]\n",
    "clouds = city_data_df[\"Cloudiness\"]\n",
    "fig = gmaps.figure(center=(30.0, 31.0), zoom_level=1.5)\n",
    "heat_layer = gmaps.heatmap_layer(locations, weights=clouds, dissipating=False, max_intensity=300, point_radius=4)\n",
    "\n",
    "fig.add_layer(heat_layer)\n",
    "# Call the figure to plot the data.\n",
    "fig"
   ]
  },
  {
   "cell_type": "code",
   "execution_count": 12,
   "metadata": {},
   "outputs": [
    {
     "data": {
      "application/vnd.jupyter.widget-view+json": {
       "model_id": "00f2c617c879445cb8e38d4b8e5b04e5",
       "version_major": 2,
       "version_minor": 0
      },
      "text/plain": [
       "Figure(layout=FigureLayout(height='420px'))"
      ]
     },
     "metadata": {},
     "output_type": "display_data"
    }
   ],
   "source": [
    "# Heatmap of percent humidity\n",
    "locations = city_data_df[[\"Lat\", \"Lng\"]]\n",
    "wind = city_data_df[\"Wind Speed\"]\n",
    "fig = gmaps.figure(center=(30.0, 31.0), zoom_level=1.5)\n",
    "heat_layer = gmaps.heatmap_layer(locations, weights=wind, dissipating=False, max_intensity=300, point_radius=4)\n",
    "\n",
    "fig.add_layer(heat_layer)\n",
    "# Call the figure to plot the data.\n",
    "fig\n"
   ]
  },
  {
   "cell_type": "code",
   "execution_count": 13,
   "metadata": {},
   "outputs": [
    {
     "name": "stdout",
     "output_type": "stream",
     "text": [
      "What is the minimum temperature you would like for your trip? 70\n",
      "What is the maximum temperature you would like for your trip? 90\n"
     ]
    }
   ],
   "source": [
    "#Let's get vacation criteria\n",
    "# Ask the customer to add a minimum and maximum temperature value.\n",
    "min_temp = float(input(\"What is the minimum temperature you would like for your trip? \"))\n",
    "max_temp = float(input(\"What is the maximum temperature you would like for your trip? \"))"
   ]
  },
  {
   "cell_type": "code",
   "execution_count": 14,
   "metadata": {},
   "outputs": [
    {
     "data": {
      "text/html": [
       "<div>\n",
       "<style scoped>\n",
       "    .dataframe tbody tr th:only-of-type {\n",
       "        vertical-align: middle;\n",
       "    }\n",
       "\n",
       "    .dataframe tbody tr th {\n",
       "        vertical-align: top;\n",
       "    }\n",
       "\n",
       "    .dataframe thead th {\n",
       "        text-align: right;\n",
       "    }\n",
       "</style>\n",
       "<table border=\"1\" class=\"dataframe\">\n",
       "  <thead>\n",
       "    <tr style=\"text-align: right;\">\n",
       "      <th></th>\n",
       "      <th>City_ID</th>\n",
       "      <th>City</th>\n",
       "      <th>Country</th>\n",
       "      <th>Date</th>\n",
       "      <th>Lat</th>\n",
       "      <th>Lng</th>\n",
       "      <th>Max Temp</th>\n",
       "      <th>Humidity</th>\n",
       "      <th>Cloudiness</th>\n",
       "      <th>Wind Speed</th>\n",
       "    </tr>\n",
       "  </thead>\n",
       "  <tbody>\n",
       "    <tr>\n",
       "      <th>6</th>\n",
       "      <td>6</td>\n",
       "      <td>Puerto Escondido</td>\n",
       "      <td>MX</td>\n",
       "      <td>2020-04-16 22:39:29</td>\n",
       "      <td>15.85</td>\n",
       "      <td>-97.07</td>\n",
       "      <td>86.00</td>\n",
       "      <td>79</td>\n",
       "      <td>5</td>\n",
       "      <td>6.93</td>\n",
       "    </tr>\n",
       "    <tr>\n",
       "      <th>11</th>\n",
       "      <td>11</td>\n",
       "      <td>Puerto Ayora</td>\n",
       "      <td>EC</td>\n",
       "      <td>2020-04-16 22:39:21</td>\n",
       "      <td>-0.74</td>\n",
       "      <td>-90.35</td>\n",
       "      <td>82.40</td>\n",
       "      <td>83</td>\n",
       "      <td>75</td>\n",
       "      <td>14.99</td>\n",
       "    </tr>\n",
       "    <tr>\n",
       "      <th>13</th>\n",
       "      <td>13</td>\n",
       "      <td>Atuona</td>\n",
       "      <td>PF</td>\n",
       "      <td>2020-04-16 22:39:26</td>\n",
       "      <td>-9.80</td>\n",
       "      <td>-139.03</td>\n",
       "      <td>82.76</td>\n",
       "      <td>72</td>\n",
       "      <td>29</td>\n",
       "      <td>12.10</td>\n",
       "    </tr>\n",
       "    <tr>\n",
       "      <th>14</th>\n",
       "      <td>14</td>\n",
       "      <td>Hilo</td>\n",
       "      <td>US</td>\n",
       "      <td>2020-04-16 22:35:10</td>\n",
       "      <td>19.73</td>\n",
       "      <td>-155.09</td>\n",
       "      <td>78.01</td>\n",
       "      <td>65</td>\n",
       "      <td>90</td>\n",
       "      <td>6.93</td>\n",
       "    </tr>\n",
       "    <tr>\n",
       "      <th>16</th>\n",
       "      <td>16</td>\n",
       "      <td>San Patricio</td>\n",
       "      <td>MX</td>\n",
       "      <td>2020-04-16 22:39:40</td>\n",
       "      <td>19.22</td>\n",
       "      <td>-104.70</td>\n",
       "      <td>77.00</td>\n",
       "      <td>73</td>\n",
       "      <td>5</td>\n",
       "      <td>11.41</td>\n",
       "    </tr>\n",
       "    <tr>\n",
       "      <th>19</th>\n",
       "      <td>19</td>\n",
       "      <td>Rikitea</td>\n",
       "      <td>PF</td>\n",
       "      <td>2020-04-16 22:41:44</td>\n",
       "      <td>-23.12</td>\n",
       "      <td>-134.97</td>\n",
       "      <td>76.37</td>\n",
       "      <td>75</td>\n",
       "      <td>24</td>\n",
       "      <td>12.77</td>\n",
       "    </tr>\n",
       "    <tr>\n",
       "      <th>20</th>\n",
       "      <td>20</td>\n",
       "      <td>Kalmunai</td>\n",
       "      <td>LK</td>\n",
       "      <td>2020-04-16 22:40:45</td>\n",
       "      <td>7.42</td>\n",
       "      <td>81.82</td>\n",
       "      <td>80.96</td>\n",
       "      <td>77</td>\n",
       "      <td>56</td>\n",
       "      <td>3.53</td>\n",
       "    </tr>\n",
       "    <tr>\n",
       "      <th>27</th>\n",
       "      <td>27</td>\n",
       "      <td>Magdalena</td>\n",
       "      <td>PH</td>\n",
       "      <td>2020-04-16 22:41:47</td>\n",
       "      <td>14.20</td>\n",
       "      <td>121.43</td>\n",
       "      <td>82.40</td>\n",
       "      <td>74</td>\n",
       "      <td>20</td>\n",
       "      <td>3.36</td>\n",
       "    </tr>\n",
       "    <tr>\n",
       "      <th>30</th>\n",
       "      <td>30</td>\n",
       "      <td>Bohicon</td>\n",
       "      <td>BJ</td>\n",
       "      <td>2020-04-16 22:41:48</td>\n",
       "      <td>7.18</td>\n",
       "      <td>2.07</td>\n",
       "      <td>80.42</td>\n",
       "      <td>78</td>\n",
       "      <td>57</td>\n",
       "      <td>8.10</td>\n",
       "    </tr>\n",
       "    <tr>\n",
       "      <th>31</th>\n",
       "      <td>31</td>\n",
       "      <td>Humberto De Campos</td>\n",
       "      <td>BR</td>\n",
       "      <td>2020-04-16 22:41:48</td>\n",
       "      <td>-2.60</td>\n",
       "      <td>-43.46</td>\n",
       "      <td>77.86</td>\n",
       "      <td>87</td>\n",
       "      <td>100</td>\n",
       "      <td>2.37</td>\n",
       "    </tr>\n",
       "  </tbody>\n",
       "</table>\n",
       "</div>"
      ],
      "text/plain": [
       "    City_ID                City Country                 Date    Lat     Lng  \\\n",
       "6         6    Puerto Escondido      MX  2020-04-16 22:39:29  15.85  -97.07   \n",
       "11       11        Puerto Ayora      EC  2020-04-16 22:39:21  -0.74  -90.35   \n",
       "13       13              Atuona      PF  2020-04-16 22:39:26  -9.80 -139.03   \n",
       "14       14                Hilo      US  2020-04-16 22:35:10  19.73 -155.09   \n",
       "16       16        San Patricio      MX  2020-04-16 22:39:40  19.22 -104.70   \n",
       "19       19             Rikitea      PF  2020-04-16 22:41:44 -23.12 -134.97   \n",
       "20       20            Kalmunai      LK  2020-04-16 22:40:45   7.42   81.82   \n",
       "27       27           Magdalena      PH  2020-04-16 22:41:47  14.20  121.43   \n",
       "30       30             Bohicon      BJ  2020-04-16 22:41:48   7.18    2.07   \n",
       "31       31  Humberto De Campos      BR  2020-04-16 22:41:48  -2.60  -43.46   \n",
       "\n",
       "    Max Temp  Humidity  Cloudiness  Wind Speed  \n",
       "6      86.00        79           5        6.93  \n",
       "11     82.40        83          75       14.99  \n",
       "13     82.76        72          29       12.10  \n",
       "14     78.01        65          90        6.93  \n",
       "16     77.00        73           5       11.41  \n",
       "19     76.37        75          24       12.77  \n",
       "20     80.96        77          56        3.53  \n",
       "27     82.40        74          20        3.36  \n",
       "30     80.42        78          57        8.10  \n",
       "31     77.86        87         100        2.37  "
      ]
     },
     "execution_count": 14,
     "metadata": {},
     "output_type": "execute_result"
    }
   ],
   "source": [
    "# Filter the dataset to find the cities that fit the criteria.\n",
    "preferred_cities_df = city_data_df.loc[(city_data_df[\"Max Temp\"] <= max_temp) & \\\n",
    "                                       (city_data_df[\"Max Temp\"] >= min_temp)]\n",
    "preferred_cities_df.head(10)"
   ]
  },
  {
   "cell_type": "code",
   "execution_count": 15,
   "metadata": {},
   "outputs": [
    {
     "data": {
      "text/plain": [
       "City_ID       231\n",
       "City          231\n",
       "Country       231\n",
       "Date          231\n",
       "Lat           231\n",
       "Lng           231\n",
       "Max Temp      231\n",
       "Humidity      231\n",
       "Cloudiness    231\n",
       "Wind Speed    231\n",
       "dtype: int64"
      ]
     },
     "execution_count": 15,
     "metadata": {},
     "output_type": "execute_result"
    }
   ],
   "source": [
    "#are there any null values????\n",
    "#why do I get 177 cities and not 180???\n",
    "preferred_cities_df.count()"
   ]
  },
  {
   "cell_type": "code",
   "execution_count": 16,
   "metadata": {},
   "outputs": [
    {
     "data": {
      "text/html": [
       "<div>\n",
       "<style scoped>\n",
       "    .dataframe tbody tr th:only-of-type {\n",
       "        vertical-align: middle;\n",
       "    }\n",
       "\n",
       "    .dataframe tbody tr th {\n",
       "        vertical-align: top;\n",
       "    }\n",
       "\n",
       "    .dataframe thead th {\n",
       "        text-align: right;\n",
       "    }\n",
       "</style>\n",
       "<table border=\"1\" class=\"dataframe\">\n",
       "  <thead>\n",
       "    <tr style=\"text-align: right;\">\n",
       "      <th></th>\n",
       "      <th>City</th>\n",
       "      <th>Country</th>\n",
       "      <th>Max Temp</th>\n",
       "      <th>Lat</th>\n",
       "      <th>Lng</th>\n",
       "      <th>Hotel Name</th>\n",
       "    </tr>\n",
       "  </thead>\n",
       "  <tbody>\n",
       "    <tr>\n",
       "      <th>6</th>\n",
       "      <td>Puerto Escondido</td>\n",
       "      <td>MX</td>\n",
       "      <td>86.00</td>\n",
       "      <td>15.85</td>\n",
       "      <td>-97.07</td>\n",
       "      <td></td>\n",
       "    </tr>\n",
       "    <tr>\n",
       "      <th>11</th>\n",
       "      <td>Puerto Ayora</td>\n",
       "      <td>EC</td>\n",
       "      <td>82.40</td>\n",
       "      <td>-0.74</td>\n",
       "      <td>-90.35</td>\n",
       "      <td></td>\n",
       "    </tr>\n",
       "    <tr>\n",
       "      <th>13</th>\n",
       "      <td>Atuona</td>\n",
       "      <td>PF</td>\n",
       "      <td>82.76</td>\n",
       "      <td>-9.80</td>\n",
       "      <td>-139.03</td>\n",
       "      <td></td>\n",
       "    </tr>\n",
       "    <tr>\n",
       "      <th>14</th>\n",
       "      <td>Hilo</td>\n",
       "      <td>US</td>\n",
       "      <td>78.01</td>\n",
       "      <td>19.73</td>\n",
       "      <td>-155.09</td>\n",
       "      <td></td>\n",
       "    </tr>\n",
       "    <tr>\n",
       "      <th>16</th>\n",
       "      <td>San Patricio</td>\n",
       "      <td>MX</td>\n",
       "      <td>77.00</td>\n",
       "      <td>19.22</td>\n",
       "      <td>-104.70</td>\n",
       "      <td></td>\n",
       "    </tr>\n",
       "    <tr>\n",
       "      <th>19</th>\n",
       "      <td>Rikitea</td>\n",
       "      <td>PF</td>\n",
       "      <td>76.37</td>\n",
       "      <td>-23.12</td>\n",
       "      <td>-134.97</td>\n",
       "      <td></td>\n",
       "    </tr>\n",
       "    <tr>\n",
       "      <th>20</th>\n",
       "      <td>Kalmunai</td>\n",
       "      <td>LK</td>\n",
       "      <td>80.96</td>\n",
       "      <td>7.42</td>\n",
       "      <td>81.82</td>\n",
       "      <td></td>\n",
       "    </tr>\n",
       "    <tr>\n",
       "      <th>27</th>\n",
       "      <td>Magdalena</td>\n",
       "      <td>PH</td>\n",
       "      <td>82.40</td>\n",
       "      <td>14.20</td>\n",
       "      <td>121.43</td>\n",
       "      <td></td>\n",
       "    </tr>\n",
       "    <tr>\n",
       "      <th>30</th>\n",
       "      <td>Bohicon</td>\n",
       "      <td>BJ</td>\n",
       "      <td>80.42</td>\n",
       "      <td>7.18</td>\n",
       "      <td>2.07</td>\n",
       "      <td></td>\n",
       "    </tr>\n",
       "    <tr>\n",
       "      <th>31</th>\n",
       "      <td>Humberto De Campos</td>\n",
       "      <td>BR</td>\n",
       "      <td>77.86</td>\n",
       "      <td>-2.60</td>\n",
       "      <td>-43.46</td>\n",
       "      <td></td>\n",
       "    </tr>\n",
       "  </tbody>\n",
       "</table>\n",
       "</div>"
      ],
      "text/plain": [
       "                  City Country  Max Temp    Lat     Lng Hotel Name\n",
       "6     Puerto Escondido      MX     86.00  15.85  -97.07           \n",
       "11        Puerto Ayora      EC     82.40  -0.74  -90.35           \n",
       "13              Atuona      PF     82.76  -9.80 -139.03           \n",
       "14                Hilo      US     78.01  19.73 -155.09           \n",
       "16        San Patricio      MX     77.00  19.22 -104.70           \n",
       "19             Rikitea      PF     76.37 -23.12 -134.97           \n",
       "20            Kalmunai      LK     80.96   7.42   81.82           \n",
       "27           Magdalena      PH     82.40  14.20  121.43           \n",
       "30             Bohicon      BJ     80.42   7.18    2.07           \n",
       "31  Humberto De Campos      BR     77.86  -2.60  -43.46           "
      ]
     },
     "execution_count": 16,
     "metadata": {},
     "output_type": "execute_result"
    }
   ],
   "source": [
    "# Create DataFrame called hotel_df to store hotel names along with city, country, max temp, and coordinates.\n",
    "hotel_df = preferred_cities_df[[\"City\", \"Country\", \"Max Temp\", \"Lat\", \"Lng\"]].copy()\n",
    "hotel_df[\"Hotel Name\"] = \"\"\n",
    "hotel_df.head(10)"
   ]
  },
  {
   "cell_type": "code",
   "execution_count": 17,
   "metadata": {},
   "outputs": [],
   "source": [
    "# Dependencies and Setup\n",
    "import requests\n",
    "import gmaps\n",
    "\n",
    "# Import API key\n",
    "from config import g_key"
   ]
  },
  {
   "cell_type": "code",
   "execution_count": 18,
   "metadata": {},
   "outputs": [],
   "source": [
    "# Set parameters to search for a hotel.\n",
    "#params = {\n",
    "  #  \"radius\": 5000,\n",
    " #   \"type\": \"lodging\",\n",
    "  #  \"key\": g_key\n",
    "#}"
   ]
  },
  {
   "cell_type": "code",
   "execution_count": 19,
   "metadata": {},
   "outputs": [],
   "source": [
    "# Set the parameters to search for a hotel in Paris.\n",
    "params = {\n",
    "    \"radius\": 5000,\n",
    "    \"types\": \"lodging\",\n",
    "    \"key\": g_key,\n",
    "    \"location\": \"48.8566, 2.3522\"}\n",
    "# Use base URL to search for hotels in Paris.\n",
    "base_url = \"https://maps.googleapis.com/maps/api/place/nearbysearch/json\"\n",
    "# Make request and get the JSON data from the search.\n",
    "hotels = requests.get(base_url, params=params).json()"
   ]
  },
  {
   "cell_type": "code",
   "execution_count": 20,
   "metadata": {},
   "outputs": [
    {
     "name": "stdout",
     "output_type": "stream",
     "text": [
      "{'html_attributions': [], 'next_page_token': 'CqQCHAEAAFarq3fsAAA43YtQWRiDLK9uRcKlqiw6CLgIm3sD-BJnpRd5uqE-kUfWr8Hx2v0MHIymUEiBp6ckKT_0YTPWP7CXTyDVGOBnhwcnzion0UnIPmMI8LH8OPMj0cmchHk7joH9DdvSevkNmcMhZL0hSRn9AoHGLVXYQgfrJx3IO7TRgoU2w1bsSocjZ0BamIFsDQpf9uX0higdk3iQDBm-MF7equwTpWtgUtLNPkJ1IjAfgPEvHuFaw3AvIfozQ3b2hSY4tcjnm8kig0Vpus4icqduVb-Xl-_9-JgjL1XG0s32nATnTsl9um-5Uf2LME86pEd1GSkUlG3cmvJ_xHPZstdjUsa0skmrRpoSVqyM-ScUMggB6Gn7dgXp21PUC3twJRIQ3hT4h7X9tMoY9JwbYKvD4hoUZ5s6swU1JFLYS-SS8f4zt9kUb-M', 'results': [{'geometry': {'location': {'lat': 48.8581126, 'lng': 2.3529277}, 'viewport': {'northeast': {'lat': 48.8594402302915, 'lng': 2.354348530291502}, 'southwest': {'lat': 48.8567422697085, 'lng': 2.351650569708498}}}, 'icon': 'https://maps.gstatic.com/mapfiles/place_api/icons/lodging-71.png', 'id': '7fa47cb61d7345cecc3b802d0e04fcff2b3d5ecb', 'name': 'Hôtel Duo', 'opening_hours': {'open_now': True}, 'photos': [{'height': 3840, 'html_attributions': ['<a href=\"https://maps.google.com/maps/contrib/107554201425443337224\">Hôtel Duo</a>'], 'photo_reference': 'CmRaAAAADPjTc1bs7TKQICfdrl2SVDnr9PN7uT36qkpEv8582MdHUV1xWYOHjA7hHkM6v-rZrva7jNGxr_O4HgKJDtu8m_7DccFeh6mpq_0r5vhrV9hskwtq7nZI16ThHDon__HKEhB66NaZdecvTVT43-73Mb5kGhRN7GnD0nMxVrKXDqAJdAJbQ822zA', 'width': 5760}], 'place_id': 'ChIJWU9CqB1u5kcR5P1F2SMoJmc', 'plus_code': {'compound_code': 'V953+65 Paris, France', 'global_code': '8FW4V953+65'}, 'rating': 4.2, 'reference': 'ChIJWU9CqB1u5kcR5P1F2SMoJmc', 'scope': 'GOOGLE', 'types': ['night_club', 'spa', 'lodging', 'bar', 'gym', 'health', 'point_of_interest', 'establishment'], 'user_ratings_total': 269, 'vicinity': '11 Rue du Temple, Paris'}, {'geometry': {'location': {'lat': 48.8582861, 'lng': 2.3464944}, 'viewport': {'northeast': {'lat': 48.8595495802915, 'lng': 2.347780980291502}, 'southwest': {'lat': 48.8568516197085, 'lng': 2.345083019708498}}}, 'icon': 'https://maps.gstatic.com/mapfiles/place_api/icons/lodging-71.png', 'id': '4d2e3fa9d12bf9feb685e628eaa4da9b180956a9', 'name': 'Hôtel Britannique - Paris Louvre', 'opening_hours': {'open_now': True}, 'photos': [{'height': 1426, 'html_attributions': ['<a href=\"https://maps.google.com/maps/contrib/108984000175492464929\">Hôtel Britannique - Paris Louvre</a>'], 'photo_reference': 'CmRaAAAAXtGWBXf5P4NqJ36YqLVHN5ag1kt1cNPBRuw9zF42CrUWvRMb3LkeCVbfPsLQ58din0-cQu0qvOAcqd0exFICiAilHr_VJKU4kAlQge7HYIL_V4AxRMpGfrWhIWe-6KcuEhAU447gb9BrNLS_daVvHNASGhQfbMuHCD1Yc3NmBvDiEf-SmDpuqg', 'width': 1476}], 'place_id': 'ChIJ-4Siox9u5kcRm9vM6DcMXyU', 'plus_code': {'compound_code': 'V85W+8H Paris, France', 'global_code': '8FW4V85W+8H'}, 'rating': 4.5, 'reference': 'ChIJ-4Siox9u5kcRm9vM6DcMXyU', 'scope': 'GOOGLE', 'types': ['lodging', 'point_of_interest', 'establishment'], 'user_ratings_total': 240, 'vicinity': '20 Avenue Victoria, Paris'}, {'geometry': {'location': {'lat': 48.8606655, 'lng': 2.3469293}, 'viewport': {'northeast': {'lat': 48.8617681302915, 'lng': 2.348040180291502}, 'southwest': {'lat': 48.8590701697085, 'lng': 2.345342219708498}}}, 'icon': 'https://maps.gstatic.com/mapfiles/place_api/icons/lodging-71.png', 'id': '9f68a76d7e95a1f94ca131a0511bfe5ffa306818', 'name': 'Citadines Les Halles Paris (Apart Hotel Paris)', 'opening_hours': {'open_now': True}, 'photos': [{'height': 496, 'html_attributions': ['<a href=\"https://maps.google.com/maps/contrib/102565262508115704337\">Citadines Les Halles Paris (Apart Hotel Paris)</a>'], 'photo_reference': 'CmRaAAAAu_bEEP8ZdN6ISJ9zsiS4S1KV-ainGaAukgUbinNKUPW2CPst4pW_wmQF5s8FOpeik-K4Tuc5Yq-23RGbe0UBk0YY396opfqkRuNOfr2E3eq3y5bN1m_HD-Sh99QGFgAKEhC8vAnJXb9YROQBx9HQv6hQGhTpHOTQakiBeFg4ulCMySpJhzb8Vg', 'width': 745}], 'place_id': 'ChIJQ_QDrxhu5kcRJzNxLLEOSfU', 'plus_code': {'compound_code': 'V86W+7Q Paris, France', 'global_code': '8FW4V86W+7Q'}, 'rating': 4.1, 'reference': 'ChIJQ_QDrxhu5kcRJzNxLLEOSfU', 'scope': 'GOOGLE', 'types': ['lodging', 'point_of_interest', 'establishment'], 'user_ratings_total': 787, 'vicinity': '4 Rue des Innocents, Paris'}, {'geometry': {'location': {'lat': 48.86034799999999, 'lng': 2.344054}, 'viewport': {'northeast': {'lat': 48.8616503302915, 'lng': 2.345521080291502}, 'southwest': {'lat': 48.8589523697085, 'lng': 2.342823119708498}}}, 'icon': 'https://maps.gstatic.com/mapfiles/place_api/icons/lodging-71.png', 'id': '071875f44126b9c8284f24b598fdfce0ef2b15a8', 'name': 'Hôtel Ducs de Bourgogne', 'opening_hours': {'open_now': True}, 'photos': [{'height': 1842, 'html_attributions': ['<a href=\"https://maps.google.com/maps/contrib/101411638353598558320\">Best Western Premier Ducs de Bourgogne</a>'], 'photo_reference': 'CmRaAAAAPKoKUhcBPUpKOz0xy--PljzKMMu3dCPO4tqJXB6vZ3lp-jFFcpzGNGCFFt4SV_HU_i_Sj4W7R6zKw7Bgr9Ha7TDtVVbs5IFmPWYXrgvbetvHHLlwDq2AqRFu-yg0mWCKEhDUFeGxwvYvVY-GheOlOaglGhTz6SUvRYhocZODgcAd8YzQBWe6bw', 'width': 2880}], 'place_id': 'ChIJifTG5yFu5kcRdnisbwxnAx4', 'plus_code': {'compound_code': 'V86V+4J Paris, France', 'global_code': '8FW4V86V+4J'}, 'rating': 4.5, 'reference': 'ChIJifTG5yFu5kcRdnisbwxnAx4', 'scope': 'GOOGLE', 'types': ['lodging', 'point_of_interest', 'establishment'], 'user_ratings_total': 264, 'vicinity': '19 Rue du Pont Neuf, Paris'}, {'geometry': {'location': {'lat': 48.8555091, 'lng': 2.3408736}, 'viewport': {'northeast': {'lat': 48.8569042302915, 'lng': 2.342317580291502}, 'southwest': {'lat': 48.8542062697085, 'lng': 2.339619619708499}}}, 'icon': 'https://maps.gstatic.com/mapfiles/place_api/icons/lodging-71.png', 'id': 'da46237a58939495edf652bdf976bd44df477f05', 'name': 'Citadines Saint-Germain-des-Prés Paris', 'opening_hours': {'open_now': True}, 'photos': [{'height': 3024, 'html_attributions': ['<a href=\"https://maps.google.com/maps/contrib/116649065792056265685\">Gilsun LEE</a>'], 'photo_reference': 'CmRaAAAAER-R8sK98vgMs-LMPtMVj81BaxiHLXEQx5inS-XUTFZPUaBW8IkEGzeNAq2yCflz-r28_R5duyr39pZKKm9TvRuLUtfGQB_2b4xFy4wcRkyeIWCnQNtZd1uvl05fMyaGEhDx01Ov7dMNj85Ofhf9DmYJGhSzuFZrSIuM10G5FALd4Mfe7BRvqQ', 'width': 4032}], 'place_id': 'ChIJo5pYcN9x5kcRERXdocMgqmE', 'plus_code': {'compound_code': 'V84R+68 Paris, France', 'global_code': '8FW4V84R+68'}, 'rating': 4.3, 'reference': 'ChIJo5pYcN9x5kcRERXdocMgqmE', 'scope': 'GOOGLE', 'types': ['lodging', 'point_of_interest', 'establishment'], 'user_ratings_total': 638, 'vicinity': '53 ter Quai des Grands Augustins, Paris'}, {'geometry': {'location': {'lat': 48.86634659999999, 'lng': 2.36064}, 'viewport': {'northeast': {'lat': 48.8677623302915, 'lng': 2.361952180291502}, 'southwest': {'lat': 48.86506436970851, 'lng': 2.359254219708498}}}, 'icon': 'https://maps.gstatic.com/mapfiles/place_api/icons/lodging-71.png', 'id': '87ab2d184ee12f6be846d60470ed800629c99521', 'name': 'Paris France Hôtel', 'opening_hours': {'open_now': True}, 'photos': [{'height': 2673, 'html_attributions': ['<a href=\"https://maps.google.com/maps/contrib/102332962500946068613\">Paris France Hôtel</a>'], 'photo_reference': 'CmRaAAAAAigk4KQJTnpT1W3gpPqAZ1k1tHxXRSbocL02jCEDlOV08VUD2x5HMXGqjOj18HxbKvVs2czWw2DcQL7XyOpPIjtgOweziDB1lTQAW0WjxhXWsWwg2TcGyH6nzolZdsIPEhDgoQZIOtXNk3y05wIM0wm8GhTJ4RFyMak05flNUbi3wHUqJaDT0A', 'width': 3463}], 'place_id': 'ChIJhXWLZg9u5kcRDVyqoZYgcmg', 'plus_code': {'compound_code': 'V986+G7 Paris, France', 'global_code': '8FW4V986+G7'}, 'rating': 4.3, 'reference': 'ChIJhXWLZg9u5kcRDVyqoZYgcmg', 'scope': 'GOOGLE', 'types': ['lodging', 'point_of_interest', 'establishment'], 'user_ratings_total': 363, 'vicinity': '72 Rue de Turbigo, Paris'}, {'geometry': {'location': {'lat': 48.8549629, 'lng': 2.3331998}, 'viewport': {'northeast': {'lat': 48.8563231802915, 'lng': 2.334450380291502}, 'southwest': {'lat': 48.8536252197085, 'lng': 2.331752419708498}}}, 'icon': 'https://maps.gstatic.com/mapfiles/place_api/icons/lodging-71.png', 'id': 'd466793620469a720b439cf769a6f4c28217ef88', 'name': 'Hôtel Bel Ami', 'opening_hours': {'open_now': True}, 'photos': [{'height': 4377, 'html_attributions': ['<a href=\"https://maps.google.com/maps/contrib/111426311500153571368\">Hôtel Bel Ami</a>'], 'photo_reference': 'CmRaAAAA-WwixJIOiQxsIPRWPyh1ZCrNM2oi__Sqln_KRw1PZE1sVjjYztP8E7PuBfENvbI9oTPneXYVoJgNtXoOxCqg4S-kAH0246P5BJDhpyEQeCIUrbhJ-WZpbOtJq3pTYgQJEhA3xUX24AViSznb3k9GZKswGhTAd3WVC5Wa6BzA9Rt_86GT8mb4rw', 'width': 6566}], 'place_id': 'ChIJj0jPiddx5kcRnYv-p3-vfCA', 'plus_code': {'compound_code': 'V83M+X7 Paris, France', 'global_code': '8FW4V83M+X7'}, 'rating': 4.6, 'reference': 'ChIJj0jPiddx5kcRnYv-p3-vfCA', 'scope': 'GOOGLE', 'types': ['spa', 'lodging', 'bar', 'restaurant', 'food', 'point_of_interest', 'establishment'], 'user_ratings_total': 446, 'vicinity': '7 Rue Saint-Benoît, Paris'}, {'geometry': {'location': {'lat': 48.86386539999999, 'lng': 2.3325488}, 'viewport': {'northeast': {'lat': 48.8650759802915, 'lng': 2.333775730291502}, 'southwest': {'lat': 48.8623780197085, 'lng': 2.331077769708498}}}, 'icon': 'https://maps.gstatic.com/mapfiles/place_api/icons/lodging-71.png', 'id': '20dd8ae8d6ad9bbbe4ea9c6caf623fa071be187f', 'name': 'Hotel Regina Louvre', 'opening_hours': {'open_now': True}, 'photos': [{'height': 2828, 'html_attributions': ['<a href=\"https://maps.google.com/maps/contrib/109066439891801774697\">Hotel Regina Louvre</a>'], 'photo_reference': 'CmRaAAAA5AdO8AeeN5Eb6Db9WEtkWiLZAg2PbstUTtCtynnhGUazAeOQcQM9SgBCKgX2zGwugI6stbG2oMCJse_HZF6_FrVoMHzVXanT6HR96fw87dpv_47bK5rHUafLvZJVsPkyEhDgUomkV5SA3DIUepRKSJ84GhRopluzlC4XfkehHdowASzTNxOeIA', 'width': 4242}], 'place_id': 'ChIJP_-HCS9u5kcRsj9b1x7Pl8w', 'plus_code': {'compound_code': 'V87M+G2 Paris, France', 'global_code': '8FW4V87M+G2'}, 'rating': 4.5, 'reference': 'ChIJP_-HCS9u5kcRsj9b1x7Pl8w', 'scope': 'GOOGLE', 'types': ['lodging', 'point_of_interest', 'establishment'], 'user_ratings_total': 493, 'vicinity': '2 Place des Pyramides, Paris'}, {'geometry': {'location': {'lat': 48.84756770000001, 'lng': 2.3718501}, 'viewport': {'northeast': {'lat': 48.8488975302915, 'lng': 2.373108630291501}, 'southwest': {'lat': 48.8461995697085, 'lng': 2.370410669708498}}}, 'icon': 'https://maps.gstatic.com/mapfiles/place_api/icons/lodging-71.png', 'id': 'dd8abb1bc4b1337fc3bd3f26e92d36c9a31de2fd', 'name': 'Hôtel De France Gare de Lyon Bastille', 'photos': [{'height': 787, 'html_attributions': ['<a href=\"https://maps.google.com/maps/contrib/117462031751048846575\">Hôtel De France Gare de Lyon Bastille</a>'], 'photo_reference': 'CmRaAAAAzS_hkFnd4Pwb5fFzYusr9Je5SxhQGJ_v7imFL8WZ3cPlngc4b1g-EtbpozAkZaivnGvI2LI8rhzB1eR6VEzq5o0dPvtmTBKfuNrLA3dACJClIiEPwhPRNJ9ilM1rhkoVEhB1jwGEmPGTJlancJQW2CLQGhQMzxJbqdz56TNkbYoGGcXaQCamPA', 'width': 1181}], 'place_id': 'ChIJz6DBYgNy5kcRhOu1LhDIECM', 'plus_code': {'compound_code': 'R9XC+2P Paris, France', 'global_code': '8FW4R9XC+2P'}, 'rating': 3.3, 'reference': 'ChIJz6DBYgNy5kcRhOu1LhDIECM', 'scope': 'GOOGLE', 'types': ['lodging', 'point_of_interest', 'establishment'], 'user_ratings_total': 374, 'vicinity': '12 Rue de Lyon, Paris'}, {'geometry': {'location': {'lat': 48.8717386, 'lng': 2.3447052}, 'viewport': {'northeast': {'lat': 48.8731394302915, 'lng': 2.346067130291502}, 'southwest': {'lat': 48.8704414697085, 'lng': 2.343369169708498}}}, 'icon': 'https://maps.gstatic.com/mapfiles/place_api/icons/lodging-71.png', 'id': '78d0f620a6cdf990371302f25505f3916839f53a', 'name': 'Hôtel Corona Opéra', 'photos': [{'height': 2592, 'html_attributions': ['<a href=\"https://maps.google.com/maps/contrib/102510876010964977166\">武石日登美</a>'], 'photo_reference': 'CmRaAAAA1EbVSsWY08ncd6u9EUdttE9Vf60JhjF-cqTt9trjGWHz90v322a1vmsWkwpuV1upbJoJnU4fPK8uTzcFbvtwWmCNteWdb5L-OJuEmxY5HCx3gy7CHf3Pf0FR2m5DhDO-EhCWcanf3Np3rZUSOndlbDswGhS-2YPg88CcJyk7DHrcFrXQ5Z4Q7A', 'width': 4608}], 'place_id': 'ChIJ8e3Qcj5u5kcR2MIGwNxustk', 'plus_code': {'compound_code': 'V8CV+MV Paris, France', 'global_code': '8FW4V8CV+MV'}, 'rating': 4, 'reference': 'ChIJ8e3Qcj5u5kcR2MIGwNxustk', 'scope': 'GOOGLE', 'types': ['lodging', 'point_of_interest', 'establishment'], 'user_ratings_total': 304, 'vicinity': '8 Cité Bergère, Paris'}, {'geometry': {'location': {'lat': 48.8423474, 'lng': 2.3632229}, 'viewport': {'northeast': {'lat': 48.8436522302915, 'lng': 2.364706330291502}, 'southwest': {'lat': 48.8409542697085, 'lng': 2.362008369708498}}}, 'icon': 'https://maps.gstatic.com/mapfiles/place_api/icons/lodging-71.png', 'id': 'c2c8e3f55bda0fd2bec95cd85db83c756bfebe2c', 'name': 'Hôtel Libertel Austerlitz Jardin des Plantes', 'opening_hours': {'open_now': True}, 'photos': [{'height': 683, 'html_attributions': ['<a href=\"https://maps.google.com/maps/contrib/113748802076686483057\">Hôtel Libertel Austerlitz Jardin des Plantes</a>'], 'photo_reference': 'CmRaAAAAnaOV7Vo6DNfO_0ZYy-JYWGVyWvaEesfWXOxiZMvZ9jTQ_KxwUHIZMYnsWhXvHGF0w7dpF3VsffIhEafW6-w1OEWAbpT7EgxdL4iLzLs86ZxG3KxlhkqlvwB9Yg5I28eGEhCsbBhrdaFDmKHlDElB7sTMGhQRwgGvJ_fUcOxqgUl_Jr1OofhSzQ', 'width': 1024}], 'place_id': 'ChIJe-udXPZx5kcRKURHNFv5BSw', 'plus_code': {'compound_code': 'R9R7+W7 Paris, France', 'global_code': '8FW4R9R7+W7'}, 'rating': 3.9, 'reference': 'ChIJe-udXPZx5kcRKURHNFv5BSw', 'scope': 'GOOGLE', 'types': ['lodging', 'point_of_interest', 'establishment'], 'user_ratings_total': 413, 'vicinity': \"12 Boulevard de l'Hôpital, Paris\"}, {'geometry': {'location': {'lat': 48.864294, 'lng': 2.3307997}, 'viewport': {'northeast': {'lat': 48.8655772302915, 'lng': 2.332153880291502}, 'southwest': {'lat': 48.8628792697085, 'lng': 2.329455919708498}}}, 'icon': 'https://maps.gstatic.com/mapfiles/place_api/icons/lodging-71.png', 'id': '50797fba20cc1e735c57820607b18b04abf162b9', 'name': 'Saint James Albany Paris Hôtel Spa', 'photos': [{'height': 650, 'html_attributions': ['<a href=\"https://maps.google.com/maps/contrib/108570400659068256718\">Saint James Albany Paris Hôtel Spa</a>'], 'photo_reference': 'CmRaAAAAseqlkXprZqFY4CHZeT2Ey6-_VuCm_kyLhOfUm5Gq-AZQ3RrHU3dB1uWR2r2UmQtX2ayld73CLXwq5GbYmv_dXInxLkNSN6jHz-vXIdZHc1v5O6OPzpDOUnhKyyKMlw6OEhCobp8Tqgu7YdT7dzhi5uWnGhT28eGb95l3uukPWX2qF6TnsalUTQ', 'width': 802}], 'place_id': 'ChIJ8znTVS5u5kcREq8TmzOICFs', 'plus_code': {'compound_code': 'V87J+P8 Paris, France', 'global_code': '8FW4V87J+P8'}, 'rating': 4, 'reference': 'ChIJ8znTVS5u5kcREq8TmzOICFs', 'scope': 'GOOGLE', 'types': ['spa', 'lodging', 'bar', 'restaurant', 'food', 'point_of_interest', 'establishment'], 'user_ratings_total': 1068, 'vicinity': '202 Rue de Rivoli, Paris'}, {'geometry': {'location': {'lat': 48.87110329999999, 'lng': 2.3389728}, 'viewport': {'northeast': {'lat': 48.87241758029149, 'lng': 2.340357630291502}, 'southwest': {'lat': 48.8697196197085, 'lng': 2.337659669708498}}}, 'icon': 'https://maps.gstatic.com/mapfiles/place_api/icons/lodging-71.png', 'id': 'ef15575a5c2adf57431313a0af490a78350630a5', 'name': 'Hôtel Icône', 'opening_hours': {'open_now': True}, 'photos': [{'height': 1066, 'html_attributions': ['<a href=\"https://maps.google.com/maps/contrib/108137830440312077288\">Hôtel Icône</a>'], 'photo_reference': 'CmRaAAAAUUsyRSmktJE1PJo9-Y7upLDFmule4KK-CX-TGpZDl60SGf2HZws5qoqqWWwcgKkdGvRrwvGhBIm44GmA9c59dvzpp91novoO4-AagcTY431jA_eYGELgoLJ4KctrDkQwEhBY3W4jwfT9ZlPFv3cyWK0UGhS1vVFe_5vuTlKFBTDfcGcqwh26Rg', 'width': 1600}], 'place_id': 'ChIJpQvq5Dtu5kcR0COam2f7v_I', 'plus_code': {'compound_code': 'V8CQ+CH Paris, France', 'global_code': '8FW4V8CQ+CH'}, 'rating': 3.7, 'reference': 'ChIJpQvq5Dtu5kcR0COam2f7v_I', 'scope': 'GOOGLE', 'types': ['lodging', 'point_of_interest', 'establishment'], 'user_ratings_total': 134, 'vicinity': \"4 Rue d'Amboise, Paris\"}, {'geometry': {'location': {'lat': 48.86038899999999, 'lng': 2.323112}, 'viewport': {'northeast': {'lat': 48.8617804302915, 'lng': 2.324489280291502}, 'southwest': {'lat': 48.8590824697085, 'lng': 2.321791319708499}}}, 'icon': 'https://maps.gstatic.com/mapfiles/place_api/icons/lodging-71.png', 'id': '7f368d30dd657e11d235029a91f97fb176c9bc9a', 'name': \"Hôtel 4 étoiles d'Orsay Paris 7ème - Esprit de France\", 'opening_hours': {'open_now': True}, 'photos': [{'height': 4618, 'html_attributions': ['<a href=\"https://maps.google.com/maps/contrib/117095582791768771344\">Baptiste Bazoge</a>'], 'photo_reference': 'CmRaAAAA-g1uNqoqie512DqiOLxIC_kS0c2qZJqA7ZMcxH7-WusibWFv5vqcZulNXHAMjkQF2py80F1uJ6_YIQKaR1QHaB0FiH3vUTWTpoxM5GECOfUbFwAYTE43H8_xFbDtXKKWEhAjzKUp5GjN4oUP5mp3NuR9GhQJtFIPzycUrTNDOfIyn8OSFgV3EQ', 'width': 3464}], 'place_id': 'ChIJu39_OCtu5kcRWVQ7SFa0J-k', 'plus_code': {'compound_code': 'V86F+56 Paris, France', 'global_code': '8FW4V86F+56'}, 'rating': 4.6, 'reference': 'ChIJu39_OCtu5kcRWVQ7SFa0J-k', 'scope': 'GOOGLE', 'types': ['lodging', 'point_of_interest', 'establishment'], 'user_ratings_total': 207, 'vicinity': '93 Rue de Lille, Paris'}, {'geometry': {'location': {'lat': 48.8661363, 'lng': 2.3260648}, 'viewport': {'northeast': {'lat': 48.8674534302915, 'lng': 2.327513280291502}, 'southwest': {'lat': 48.8647554697085, 'lng': 2.324815319708498}}}, 'icon': 'https://maps.gstatic.com/mapfiles/place_api/icons/lodging-71.png', 'id': '3706e8da44cbce856612cc5e666bd4e25076a0d8', 'name': 'Hôtel Mayfair Paris', 'opening_hours': {'open_now': True}, 'photos': [{'height': 1365, 'html_attributions': ['<a href=\"https://maps.google.com/maps/contrib/113789389085635834164\">Hôtel Mayfair Paris</a>'], 'photo_reference': 'CmRaAAAAFJ3m8A3U6Q8-_sUpCMAAQ9Do5-4c9BczHfxqVcYYNgGNIRB1SSWIP5wlTyLi8T5qQhF8ItVf3VLA5I0nPutmC0g2ba6DeWZGovNOtXeSELQ42SluFhXa9aVM3okArjLvEhAox0CB0wRwU9U08_vZNP8PGhT8EzwyFy9HVuimuHeYEh4uU-HAyg', 'width': 2048}], 'place_id': 'ChIJTXVIhS1u5kcRlm9-RG0srQs', 'plus_code': {'compound_code': 'V88G+FC Paris, France', 'global_code': '8FW4V88G+FC'}, 'rating': 4.2, 'reference': 'ChIJTXVIhS1u5kcRlm9-RG0srQs', 'scope': 'GOOGLE', 'types': ['lodging', 'point_of_interest', 'establishment'], 'user_ratings_total': 245, 'vicinity': '3 Rue Rouget de Lisle, Paris'}, {'geometry': {'location': {'lat': 48.8758937, 'lng': 2.3591167}, 'viewport': {'northeast': {'lat': 48.8772989802915, 'lng': 2.360423530291502}, 'southwest': {'lat': 48.8746010197085, 'lng': 2.357725569708498}}}, 'icon': 'https://maps.gstatic.com/mapfiles/place_api/icons/lodging-71.png', 'id': '243057f371f2061f228c750901650cd7fb66d5e3', 'name': \"Holiday Inn Paris - Gare de l'Est\", 'opening_hours': {'open_now': True}, 'photos': [{'height': 1366, 'html_attributions': ['<a href=\"https://maps.google.com/maps/contrib/102027969916801631519\">Holiday Inn Paris - Gare de l&#39;Est</a>'], 'photo_reference': 'CmRaAAAAADXAFlmIxAwumrxtoUIaEKvXVVZRSQwdCyUJKSvhTjYXZTQEHlYTuIgEpMSa3xLDXgBkNXRxcakap7ohIZywoo5qIH_XmAZ4Doh4wyisHXgdr2DH8Zy90ktZfQLa95jpEhDmHNnYV5XaEf6zXSVOmMZ8GhStNNtoqVTvaGisS7UdN3s8ZmA2Bg', 'width': 2048}], 'place_id': 'ChIJwUHJSg1u5kcRhNqw_oQNeKI', 'plus_code': {'compound_code': 'V9G5+9J Paris, France', 'global_code': '8FW4V9G5+9J'}, 'rating': 3.8, 'reference': 'ChIJwUHJSg1u5kcRhNqw_oQNeKI', 'scope': 'GOOGLE', 'types': ['lodging', 'point_of_interest', 'establishment'], 'user_ratings_total': 1517, 'vicinity': '45 Rue du 8 Mai 1945 5, Paris'}, {'geometry': {'location': {'lat': 48.8722237, 'lng': 2.3333825}, 'viewport': {'northeast': {'lat': 48.8734799302915, 'lng': 2.334607880291502}, 'southwest': {'lat': 48.8707819697085, 'lng': 2.331909919708498}}}, 'icon': 'https://maps.gstatic.com/mapfiles/place_api/icons/lodging-71.png', 'id': 'f5498c1ca2d603ee13df8183a714828bca6cdd18', 'name': 'W Paris Opéra', 'opening_hours': {'open_now': True}, 'photos': [{'height': 4160, 'html_attributions': ['<a href=\"https://maps.google.com/maps/contrib/108849714197452699855\">Maddie Chandran</a>'], 'photo_reference': 'CmRaAAAANpAsCgJklEuAEEYlOCjU8ZPWW93JtV-dq4vfKl0LaRku3d9FBZr8VGMqP0o3L4LH2CVbo-uAvB9w-L8pUWjJMQDYj94DO0c_qHWBvD3h5wIEs4FX3vGSwjwbiqtOPJfREhDJkUtZxg7k6jlB54Z4tuclGhSKba1MmOaFROpJOTptia-8EhKXjw', 'width': 2340}], 'place_id': 'ChIJiVMcgTRu5kcRbXfOviG7AqI', 'plus_code': {'compound_code': 'V8CM+V9 Paris, France', 'global_code': '8FW4V8CM+V9'}, 'rating': 4.2, 'reference': 'ChIJiVMcgTRu5kcRbXfOviG7AqI', 'scope': 'GOOGLE', 'types': ['lodging', 'point_of_interest', 'establishment'], 'user_ratings_total': 492, 'vicinity': '4 Rue Meyerbeer, Paris'}, {'geometry': {'location': {'lat': 48.873051, 'lng': 2.325144}, 'viewport': {'northeast': {'lat': 48.8743766802915, 'lng': 2.326575830291502}, 'southwest': {'lat': 48.8716787197085, 'lng': 2.323877869708498}}}, 'icon': 'https://maps.gstatic.com/mapfiles/place_api/icons/lodging-71.png', 'id': 'f34cb2335f4167f6386f6e4cba3fa9ac9d41ee04', 'name': 'Queen Mary', 'opening_hours': {'open_now': True}, 'photos': [{'height': 4000, 'html_attributions': ['<a href=\"https://maps.google.com/maps/contrib/108668253951569542337\">Hôtel Queen Mary Paris</a>'], 'photo_reference': 'CmRaAAAAZKCgqOgS3yMGzC0zJ_8a35RJmP2-WU3MA30M8IdYlKM7lRtB5kKjjsRrlE9kCpjAQPNu2_8hZrbAaddVjJjeAMVOwMraH4KbwQ16Hq958khkMgYrhYQ3jRLRkj-o5AlSEhDn6EIcreG0XhKCZ9Wilf2oGhQxql6E3qtxkgBvsieUFZyP9-iPlA', 'width': 6016}], 'place_id': 'ChIJY28Z7TRu5kcRJUMpbVhU4UM', 'plus_code': {'compound_code': 'V8FG+63 Paris, France', 'global_code': '8FW4V8FG+63'}, 'rating': 4.1, 'reference': 'ChIJY28Z7TRu5kcRJUMpbVhU4UM', 'scope': 'GOOGLE', 'types': ['lodging', 'point_of_interest', 'establishment'], 'user_ratings_total': 142, 'vicinity': '9 Rue Greffulhe, Paris'}, {'geometry': {'location': {'lat': 48.83984820000001, 'lng': 2.3815254}, 'viewport': {'northeast': {'lat': 48.8413168302915, 'lng': 2.382926830291501}, 'southwest': {'lat': 48.8386188697085, 'lng': 2.380228869708497}}}, 'icon': 'https://maps.gstatic.com/mapfiles/place_api/icons/lodging-71.png', 'id': '1b369f126189dbc76b04baeb8d4f75b84aa7069f', 'name': 'Hôtel Claret Bercy', 'photos': [{'height': 3096, 'html_attributions': ['<a href=\"https://maps.google.com/maps/contrib/104321564916676739653\">Budget Voyages</a>'], 'photo_reference': 'CmRaAAAArEzQSqdMpmSIKadTYGbtYmZULSoihdfyDWhmVjbt1COjuH6oM5h6MjsqgYvmM6_76ISr5d6YS9FVj4Y8hPrEkmWU_v4TSNwxjTw0C_76HpiLXyTB-nXZNz0qBgVVsH3JEhAC5da27aQFPqfKezk1vV4BGhRlHVg78u2KCtLLWdgeCgfsWY3hGg', 'width': 4128}], 'place_id': 'ChIJ5ZsFrhZy5kcRqzuGyYue67I', 'plus_code': {'compound_code': 'R9QJ+WJ Paris, France', 'global_code': '8FW4R9QJ+WJ'}, 'rating': 3.4, 'reference': 'ChIJ5ZsFrhZy5kcRqzuGyYue67I', 'scope': 'GOOGLE', 'types': ['lodging', 'point_of_interest', 'establishment'], 'user_ratings_total': 438, 'vicinity': '44 Boulevard de Bercy, Paris'}, {'geometry': {'location': {'lat': 48.83340940000001, 'lng': 2.331944}, 'viewport': {'northeast': {'lat': 48.83478623029151, 'lng': 2.333215480291503}, 'southwest': {'lat': 48.83208826970851, 'lng': 2.330517519708499}}}, 'icon': 'https://maps.gstatic.com/mapfiles/place_api/icons/lodging-71.png', 'id': 'a67801478dc4d772b6cf1cabbdb55a3a6ad09b73', 'name': 'Hotel Du Lion', 'opening_hours': {'open_now': True}, 'photos': [{'height': 1024, 'html_attributions': ['<a href=\"https://maps.google.com/maps/contrib/112632051816898799406\">Hotel Du Lion</a>'], 'photo_reference': 'CmRaAAAAxOdRD4NATpUUUAilVjmVptKjuSnsvy8Se3aBN9A6lRtAIjSwUkpoaeozejQ9HihzQAsRKJD4esGj6OwMaqXYZnAzaY6FrYykESUBlsKN5EGjcjJkBkQKTfEyTz_lrhliEhDtz8ADLuxCxB0BDF4pLtUTGhSBZmONxh-4UHtx4Y1r_fNH9fRA3w', 'width': 768}], 'place_id': 'ChIJffWJ0rlx5kcR366zaq60vk8', 'plus_code': {'compound_code': 'R8MJ+9Q Paris, France', 'global_code': '8FW4R8MJ+9Q'}, 'rating': 4, 'reference': 'ChIJffWJ0rlx5kcR366zaq60vk8', 'scope': 'GOOGLE', 'types': ['lodging', 'point_of_interest', 'establishment'], 'user_ratings_total': 175, 'vicinity': '1 Avenue du Général Leclerc, Paris'}], 'status': 'OK'}\n"
     ]
    }
   ],
   "source": [
    "print(hotels)"
   ]
  },
  {
   "cell_type": "code",
   "execution_count": 21,
   "metadata": {},
   "outputs": [
    {
     "data": {
      "text/plain": [
       "20"
      ]
     },
     "execution_count": 21,
     "metadata": {},
     "output_type": "execute_result"
    }
   ],
   "source": [
    "len(hotels[\"results\"])"
   ]
  },
  {
   "cell_type": "code",
   "execution_count": 22,
   "metadata": {},
   "outputs": [],
   "source": [
    "# Iterate through the DataFrame.\n",
    "for index, row in hotel_df.iterrows():\n",
    "    # Get the latitude and longitude.\n",
    "    lat = row[\"Lat\"]\n",
    "    lng = row[\"Lng\"]\n",
    "\n",
    "    # Add the latitude and longitude to location key for the params dictionary.\n",
    "    params[\"location\"] = f\"{lat},{lng}\"\n",
    "\n",
    "    # Use the search term: \"lodging\" and our latitude and longitude.\n",
    "    base_url = \"https://maps.googleapis.com/maps/api/place/nearbysearch/json\"\n",
    "    # Make request and get the JSON data from the search.\n",
    "    hotels = requests.get(base_url, params=params).json()\n",
    "    # Grab the first hotel from the results and store the name.\n",
    "  #  hotel_df.loc[index, \"Hotel Name\"] = hotels[\"results\"][0][\"name\"]\n",
    "# Grab the first hotel from the results and store the name.\n",
    "try:\n",
    "    hotel_df.loc[index, \"Hotel Name\"] = hotels[\"results\"][0][\"name\"]\n",
    "except (IndexError):\n",
    "    print(\"Hotel not found... skipping.\")"
   ]
  },
  {
   "cell_type": "code",
   "execution_count": 25,
   "metadata": {},
   "outputs": [
    {
     "data": {
      "text/html": [
       "<div>\n",
       "<style scoped>\n",
       "    .dataframe tbody tr th:only-of-type {\n",
       "        vertical-align: middle;\n",
       "    }\n",
       "\n",
       "    .dataframe tbody tr th {\n",
       "        vertical-align: top;\n",
       "    }\n",
       "\n",
       "    .dataframe thead th {\n",
       "        text-align: right;\n",
       "    }\n",
       "</style>\n",
       "<table border=\"1\" class=\"dataframe\">\n",
       "  <thead>\n",
       "    <tr style=\"text-align: right;\">\n",
       "      <th></th>\n",
       "      <th>City</th>\n",
       "      <th>Country</th>\n",
       "      <th>Max Temp</th>\n",
       "      <th>Lat</th>\n",
       "      <th>Lng</th>\n",
       "      <th>Hotel Name</th>\n",
       "    </tr>\n",
       "  </thead>\n",
       "  <tbody>\n",
       "    <tr>\n",
       "      <th>6</th>\n",
       "      <td>Puerto Escondido</td>\n",
       "      <td>MX</td>\n",
       "      <td>86.00</td>\n",
       "      <td>15.85</td>\n",
       "      <td>-97.07</td>\n",
       "      <td></td>\n",
       "    </tr>\n",
       "    <tr>\n",
       "      <th>11</th>\n",
       "      <td>Puerto Ayora</td>\n",
       "      <td>EC</td>\n",
       "      <td>82.40</td>\n",
       "      <td>-0.74</td>\n",
       "      <td>-90.35</td>\n",
       "      <td></td>\n",
       "    </tr>\n",
       "    <tr>\n",
       "      <th>13</th>\n",
       "      <td>Atuona</td>\n",
       "      <td>PF</td>\n",
       "      <td>82.76</td>\n",
       "      <td>-9.80</td>\n",
       "      <td>-139.03</td>\n",
       "      <td></td>\n",
       "    </tr>\n",
       "    <tr>\n",
       "      <th>14</th>\n",
       "      <td>Hilo</td>\n",
       "      <td>US</td>\n",
       "      <td>78.01</td>\n",
       "      <td>19.73</td>\n",
       "      <td>-155.09</td>\n",
       "      <td></td>\n",
       "    </tr>\n",
       "    <tr>\n",
       "      <th>16</th>\n",
       "      <td>San Patricio</td>\n",
       "      <td>MX</td>\n",
       "      <td>77.00</td>\n",
       "      <td>19.22</td>\n",
       "      <td>-104.70</td>\n",
       "      <td></td>\n",
       "    </tr>\n",
       "    <tr>\n",
       "      <th>19</th>\n",
       "      <td>Rikitea</td>\n",
       "      <td>PF</td>\n",
       "      <td>76.37</td>\n",
       "      <td>-23.12</td>\n",
       "      <td>-134.97</td>\n",
       "      <td></td>\n",
       "    </tr>\n",
       "    <tr>\n",
       "      <th>20</th>\n",
       "      <td>Kalmunai</td>\n",
       "      <td>LK</td>\n",
       "      <td>80.96</td>\n",
       "      <td>7.42</td>\n",
       "      <td>81.82</td>\n",
       "      <td></td>\n",
       "    </tr>\n",
       "    <tr>\n",
       "      <th>27</th>\n",
       "      <td>Magdalena</td>\n",
       "      <td>PH</td>\n",
       "      <td>82.40</td>\n",
       "      <td>14.20</td>\n",
       "      <td>121.43</td>\n",
       "      <td></td>\n",
       "    </tr>\n",
       "    <tr>\n",
       "      <th>30</th>\n",
       "      <td>Bohicon</td>\n",
       "      <td>BJ</td>\n",
       "      <td>80.42</td>\n",
       "      <td>7.18</td>\n",
       "      <td>2.07</td>\n",
       "      <td></td>\n",
       "    </tr>\n",
       "    <tr>\n",
       "      <th>31</th>\n",
       "      <td>Humberto De Campos</td>\n",
       "      <td>BR</td>\n",
       "      <td>77.86</td>\n",
       "      <td>-2.60</td>\n",
       "      <td>-43.46</td>\n",
       "      <td></td>\n",
       "    </tr>\n",
       "  </tbody>\n",
       "</table>\n",
       "</div>"
      ],
      "text/plain": [
       "                  City Country  Max Temp    Lat     Lng Hotel Name\n",
       "6     Puerto Escondido      MX     86.00  15.85  -97.07           \n",
       "11        Puerto Ayora      EC     82.40  -0.74  -90.35           \n",
       "13              Atuona      PF     82.76  -9.80 -139.03           \n",
       "14                Hilo      US     78.01  19.73 -155.09           \n",
       "16        San Patricio      MX     77.00  19.22 -104.70           \n",
       "19             Rikitea      PF     76.37 -23.12 -134.97           \n",
       "20            Kalmunai      LK     80.96   7.42   81.82           \n",
       "27           Magdalena      PH     82.40  14.20  121.43           \n",
       "30             Bohicon      BJ     80.42   7.18    2.07           \n",
       "31  Humberto De Campos      BR     77.86  -2.60  -43.46           "
      ]
     },
     "execution_count": 25,
     "metadata": {},
     "output_type": "execute_result"
    }
   ],
   "source": [
    "hotel_df.head(10)"
   ]
  },
  {
   "cell_type": "code",
   "execution_count": 26,
   "metadata": {},
   "outputs": [
    {
     "data": {
      "application/vnd.jupyter.widget-view+json": {
       "model_id": "d2f9ffc5ce964bcfb225a570f8f3e9fb",
       "version_major": 2,
       "version_minor": 0
      },
      "text/plain": [
       "Figure(layout=FigureLayout(height='420px'))"
      ]
     },
     "metadata": {},
     "output_type": "display_data"
    }
   ],
   "source": [
    "# Add a heatmap of temperature for the vacation spots.\n",
    "locations = hotel_df[[\"Lat\", \"Lng\"]]\n",
    "max_temp = hotel_df[\"Max Temp\"]\n",
    "fig = gmaps.figure(center=(30.0, 31.0), zoom_level=1.5)\n",
    "heat_layer = gmaps.heatmap_layer(locations, weights=max_temp, dissipating=False,\n",
    "             max_intensity=300, point_radius=4)\n",
    "\n",
    "fig.add_layer(heat_layer)\n",
    "# Call the figure to plot the data.\n",
    "fig"
   ]
  },
  {
   "cell_type": "code",
   "execution_count": 31,
   "metadata": {},
   "outputs": [
    {
     "data": {
      "application/vnd.jupyter.widget-view+json": {
       "model_id": "a62d8fe0519841669ad8ed09826deefc",
       "version_major": 2,
       "version_minor": 0
      },
      "text/plain": [
       "Figure(layout=FigureLayout(height='420px'))"
      ]
     },
     "metadata": {},
     "output_type": "display_data"
    }
   ],
   "source": [
    "# Add a heatmap of temperature for the vacation spots and marker for each city.\n",
    "locations = hotel_df[[\"Lat\", \"Lng\"]]\n",
    "max_temp = hotel_df[\"Max Temp\"]\n",
    "fig = gmaps.figure(center=(30.0, 31.0), zoom_level=1.5)\n",
    "heat_layer = gmaps.heatmap_layer(locations, weights=max_temp, dissipating=False, max_intensity=300, point_radius=4)\n",
    "marker_layer = gmaps.marker_layer(locations)\n",
    "fig.add_layer(heat_layer)\n",
    "fig.add_layer(marker_layer)\n",
    "# Call the figure to plot the data.\n",
    "fig"
   ]
  },
  {
   "cell_type": "code",
   "execution_count": 32,
   "metadata": {},
   "outputs": [],
   "source": [
    "info_box_template = \"\"\"\n",
    "<dl>\n",
    "<dt>Hotel Name</dt><dd>{Hotel Name}</dd>\n",
    "<dt>City</dt><dd>{City}</dd>\n",
    "<dt>Country</dt><dd>{Country}</dd>\n",
    "<dt>Max Temp</dt><dd>{Max Temp} °F</dd>\n",
    "</dl>\n",
    "\"\"\""
   ]
  },
  {
   "cell_type": "code",
   "execution_count": 33,
   "metadata": {},
   "outputs": [],
   "source": [
    "# Store the DataFrame Row.\n",
    "hotel_info = [info_box_template.format(**row) for index, row in hotel_df.iterrows()]"
   ]
  },
  {
   "cell_type": "code",
   "execution_count": 34,
   "metadata": {},
   "outputs": [
    {
     "data": {
      "application/vnd.jupyter.widget-view+json": {
       "model_id": "fe727e21182a4417b8962df98c131c83",
       "version_major": 2,
       "version_minor": 0
      },
      "text/plain": [
       "Figure(layout=FigureLayout(height='420px'))"
      ]
     },
     "metadata": {},
     "output_type": "display_data"
    }
   ],
   "source": [
    "# Add a heatmap of temperature for the vacation spots and a pop-up marker for each city.\n",
    "locations = hotel_df[[\"Lat\", \"Lng\"]]\n",
    "max_temp = hotel_df[\"Max Temp\"]\n",
    "fig = gmaps.figure(center=(30.0, 31.0), zoom_level=1.5)\n",
    "heat_layer = gmaps.heatmap_layer(locations, weights=max_temp,dissipating=False,\n",
    "             max_intensity=300, point_radius=4)\n",
    "marker_layer = gmaps.marker_layer(locations, info_box_content=hotel_info)\n",
    "fig.add_layer(heat_layer)\n",
    "fig.add_layer(marker_layer)\n",
    "\n",
    "# Call the figure to plot the data.\n",
    "fig"
   ]
  },
  {
   "cell_type": "code",
   "execution_count": null,
   "metadata": {},
   "outputs": [],
   "source": []
  }
 ],
 "metadata": {
  "kernelspec": {
   "display_name": "PythonData",
   "language": "python",
   "name": "pythondata"
  },
  "language_info": {
   "codemirror_mode": {
    "name": "ipython",
    "version": 3
   },
   "file_extension": ".py",
   "mimetype": "text/x-python",
   "name": "python",
   "nbconvert_exporter": "python",
   "pygments_lexer": "ipython3",
   "version": "3.7.6"
  }
 },
 "nbformat": 4,
 "nbformat_minor": 4
}
